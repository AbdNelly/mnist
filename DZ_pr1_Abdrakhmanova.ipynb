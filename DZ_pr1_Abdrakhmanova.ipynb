{
  "nbformat": 4,
  "nbformat_minor": 0,
  "metadata": {
    "kernelspec": {
      "display_name": "Python 3",
      "language": "python",
      "name": "python3"
    },
    "language_info": {
      "codemirror_mode": {
        "name": "ipython",
        "version": 3
      },
      "file_extension": ".py",
      "mimetype": "text/x-python",
      "name": "python",
      "nbconvert_exporter": "python",
      "pygments_lexer": "ipython3",
      "version": "3.5.2"
    },
    "colab": {
      "name": "programming01.ipynb",
      "provenance": [],
      "collapsed_sections": []
    }
  },
  "cells": [
    {
      "cell_type": "markdown",
      "metadata": {
        "id": "t4KUsXpLW9VD",
        "colab_type": "text"
      },
      "source": [
        "ЛАБОРАТОРНАЯ РАБОТА №1\n",
        "\n",
        "Фамилия: Абдрахманова \n",
        "    \n",
        "Имя: Нелли\n",
        "    \n",
        "Отчество: Тагировна\n",
        "    \n",
        "ВУЗ: МГУ\n",
        "    \n",
        "Факультет: мехмат\n",
        "    \n",
        "Курс: 4\n",
        "    \n",
        "Кафедра: Теории динамических систем\n",
        "    \n",
        "Научный руководитель: Асташов Е.А."
      ]
    },
    {
      "cell_type": "markdown",
      "metadata": {
        "id": "hbhh8hl3W9VJ",
        "colab_type": "text"
      },
      "source": [
        "### Введение в Keras"
      ]
    },
    {
      "cell_type": "markdown",
      "metadata": {
        "id": "B_maZgP7W9VO",
        "colab_type": "text"
      },
      "source": [
        "Цели лабораторной работы: \n",
        "- разобраться с интерфейсом слоёв, участвующих в построении нейронной сети\n",
        "- научиться обучать нейронные сети"
      ]
    },
    {
      "cell_type": "code",
      "metadata": {
        "id": "It15PzvqW9VR",
        "colab_type": "code",
        "colab": {}
      },
      "source": [
        "import numpy as np\n",
        "np.random.seed(123)  # for reproducibility\n",
        " \n",
        "from keras.models import Sequential, Model\n",
        "from keras.layers import Dense, Dropout, Activation, Flatten, Input\n",
        "from keras.layers import Convolution2D, Conv2D, MaxPooling2D\n",
        "from keras.layers.normalization import BatchNormalization \n",
        "from keras.utils import np_utils\n",
        "from keras.datasets import mnist\n",
        "from tensorflow.keras.optimizers import SGD, Adam, Adadelta, Adagrad\n",
        " \n",
        "import matplotlib.pyplot as plt\n",
        "import tensorflow as tf\n",
        "import keras\n",
        "\n",
        "print(keras.__version__)\n",
        "print(tf.__version__)"
      ],
      "execution_count": 0,
      "outputs": []
    },
    {
      "cell_type": "markdown",
      "metadata": {
        "id": "U3jVVcFBW9Vf",
        "colab_type": "text"
      },
      "source": [
        "#### Подготовка данных"
      ]
    },
    {
      "cell_type": "code",
      "metadata": {
        "id": "rd7NzS0aW9Vj",
        "colab_type": "code",
        "colab": {}
      },
      "source": [
        "(X_train, y_train), (X_test, y_test) = mnist.load_data()\n",
        "print(X_train.shape, y_train.shape, X_test.shape, y_test.shape)\n",
        "\n",
        "X_train = X_train.reshape(X_train.shape[0], 1, 28, 28)\n",
        "X_test = X_test.reshape(X_test.shape[0], 1, 28, 28)\n",
        "X_train = X_train.astype('float32')\n",
        "X_test = X_test.astype('float32')\n",
        "X_train /= 255\n",
        "X_test /= 255\n",
        " \n",
        "\n",
        "Y_train = np_utils.to_categorical(y_train, 10)\n",
        "Y_test = np_utils.to_categorical(y_test, 10)\n",
        "\n",
        "index = 1238\n",
        "plt.imshow(X_train[index,0, :,:])\n",
        "plt.show()\n",
        "\n",
        "print(np.max(X_train[index,0, :,:]), np.min(X_train[index,0, :,:]), np.dtype(np.max(X_train[index,0, :,:])))\n",
        "print(Y_train[index])\n",
        "print(np.argmax(Y_train[index]))"
      ],
      "execution_count": 0,
      "outputs": []
    },
    {
      "cell_type": "markdown",
      "metadata": {
        "id": "GuByIp1eW9Vs",
        "colab_type": "text"
      },
      "source": [
        "#### 1. (1 балл) Обучите простейшую однослойную нейронную сеть. Какой максимальный результат на тесте вам удалось достичь? Параметры обучения можно менять"
      ]
    },
    {
      "cell_type": "code",
      "metadata": {
        "id": "hQzqcxI3W9Vv",
        "colab_type": "code",
        "colab": {}
      },
      "source": [
        "# код, на котором достигается эта точность\n",
        "input_image = Input(shape=(1,28,28))\n",
        "flatten = Flatten()(input_image)\n",
        "dense2 = Dense(10, activation='softmax')(flatten)\n",
        "model = Model(inputs=input_image, outputs=dense2)\n",
        "\n",
        "model.compile(loss='categorical_crossentropy',\n",
        "              optimizer='sgd',\n",
        "              metrics=['accuracy'])\n",
        "model.fit(X_train, Y_train, validation_split=0.1, batch_size=10, nb_epoch=50, verbose=1)\n",
        "score = model.evaluate(X_test, Y_test, verbose=1)\n",
        "print(score)"
      ],
      "execution_count": 0,
      "outputs": []
    },
    {
      "cell_type": "code",
      "metadata": {
        "id": "r4S9APAGW9V4",
        "colab_type": "code",
        "colab": {}
      },
      "source": [
        "# ваша точность на тесте: 0.9251"
      ],
      "execution_count": 0,
      "outputs": []
    },
    {
      "cell_type": "markdown",
      "metadata": {
        "id": "QX0FPJaYW9WA",
        "colab_type": "text"
      },
      "source": [
        "#### 2. (2 балла) Обучите двуслойную полносвязную сеть. Какой максимальный результат на тесте вам удалось достичь?"
      ]
    },
    {
      "cell_type": "code",
      "metadata": {
        "id": "Ha329waLW9WC",
        "colab_type": "code",
        "colab": {}
      },
      "source": [
        "# ваша точность на тесте: 0.9826"
      ],
      "execution_count": 0,
      "outputs": []
    },
    {
      "cell_type": "markdown",
      "metadata": {
        "id": "z14BkkMEHrb5",
        "colab_type": "text"
      },
      "source": [
        "Стало заметно лучше."
      ]
    },
    {
      "cell_type": "code",
      "metadata": {
        "id": "HVJ7VEGAW9WK",
        "colab_type": "code",
        "colab": {}
      },
      "source": [
        "# ваш код, на котором достигается эта точность\n",
        "input_image = Input(shape=(1,28,28))\n",
        "flatten = Flatten()(input_image)\n",
        "dense2 = Dense(512, activation='relu')(flatten)\n",
        "dense3 = Dense(10, activation='softmax')(dense2)\n",
        "model = Model(inputs=input_image, outputs=dense3)\n",
        "\n",
        "#код обучения разрешается исправлять\n",
        "model.compile(loss='categorical_crossentropy',\n",
        "              optimizer='sgd',\n",
        "              metrics=['accuracy'])\n",
        "model.fit(X_train, Y_train, validation_split=0.1, batch_size=10, nb_epoch=60, verbose=1)\n",
        "score = model.evaluate(X_test, Y_test, verbose=1)\n",
        "print(score)"
      ],
      "execution_count": 0,
      "outputs": []
    },
    {
      "cell_type": "markdown",
      "metadata": {
        "id": "N4hkEzqdW9WS",
        "colab_type": "text"
      },
      "source": [
        "#### 3. (2 балла) Обучите трёхслойную полносвязную сеть. Какой максимальный результат на тесте вам удалось достичь?"
      ]
    },
    {
      "cell_type": "code",
      "metadata": {
        "id": "1b86XiIdHnZV",
        "colab_type": "code",
        "colab": {}
      },
      "source": [
        "# ваша точность на тесте: 0.982"
      ],
      "execution_count": 0,
      "outputs": []
    },
    {
      "cell_type": "markdown",
      "metadata": {
        "id": "wJyDTuq8G-UJ",
        "colab_type": "text"
      },
      "source": [
        "\n",
        "\n",
        "Модель стала работать быстрее: двуслойная сеть получила такую оценку за примерно за 21 минуту, а трёхслойная примерно за 16 минут."
      ]
    },
    {
      "cell_type": "code",
      "metadata": {
        "id": "cYGIo6IaW9Wb",
        "colab_type": "code",
        "colab": {
          "base_uri": "https://localhost:8080/",
          "height": 347
        },
        "outputId": "c23e5ddc-b941-435b-a06e-be929f30ad2c"
      },
      "source": [
        "# ваш код, на котором достигается эта точность\n",
        "input_image = Input(shape=(1,28,28))\n",
        "flatten = Flatten()(input_image)\n",
        "dense2 = Dense(512, activation='relu')(flatten)\n",
        "dense3 = Dense(512, activation='relu')(dense2)\n",
        "dense4 = Dense(10, activation='softmax')(dense3)\n",
        "model = Model(inputs=input_image, outputs=dense4)\n",
        "\n",
        "model.compile(loss='categorical_crossentropy',\n",
        "              optimizer='sgd',\n",
        "              metrics=['accuracy'])\n",
        "history = model.fit(X_train, Y_train, validation_split=0.1, batch_size=10, nb_epoch=30, verbose=0)\n",
        "score = model.evaluate(X_test, Y_test, verbose=0)\n",
        "print(score)\n",
        "plt.plot(history.history['acc'])\n",
        "plt.plot(history.history['val_acc'])\n",
        "plt.title('Model accuracy')\n",
        "plt.ylabel('Accuracy')\n",
        "plt.xlabel('Epoch')\n",
        "plt.legend(['Train', 'Test'], loc='upper left')\n",
        "plt.show()"
      ],
      "execution_count": 7,
      "outputs": [
        {
          "output_type": "stream",
          "text": [
            "/usr/local/lib/python3.6/dist-packages/ipykernel_launcher.py:11: UserWarning: The `nb_epoch` argument in `fit` has been renamed `epochs`.\n",
            "  # This is added back by InteractiveShellApp.init_path()\n"
          ],
          "name": "stderr"
        },
        {
          "output_type": "stream",
          "text": [
            "[0.06383816511751211, 0.982]\n"
          ],
          "name": "stdout"
        },
        {
          "output_type": "display_data",
          "data": {
            "image/png": "[encoded data removed]",
            "text/plain": [
              "<Figure size 432x288 with 1 Axes>"
            ]
          },
          "metadata": {
            "tags": []
          }
        }
      ]
    },
    {
      "cell_type": "markdown",
      "metadata": {
        "id": "9eBvGaunW9Wh",
        "colab_type": "text"
      },
      "source": [
        "#### 4. (3 балла) Улучшится ли ваш результат, есть в сеть добавить слои нормализации (dropout, batchnorm  и др.)?"
      ]
    },
    {
      "cell_type": "code",
      "metadata": {
        "id": "Uon8dt-lHSRZ",
        "colab_type": "code",
        "colab": {}
      },
      "source": [
        "# ваша точность на тесте: 0.9854"
      ],
      "execution_count": 0,
      "outputs": []
    },
    {
      "cell_type": "markdown",
      "metadata": {
        "id": "N8S--KRLGtf3",
        "colab_type": "text"
      },
      "source": [
        "Да, и по графику видно, что модель лучше."
      ]
    },
    {
      "cell_type": "code",
      "metadata": {
        "id": "9uW3NLZjW9Wr",
        "colab_type": "code",
        "colab": {
          "base_uri": "https://localhost:8080/",
          "height": 347
        },
        "outputId": "37fe53b9-8b7d-40dd-bff2-8f02665237ce"
      },
      "source": [
        "# ваш код, на котором достигается эта точность\n",
        "input_image = Input(shape=(1,28,28))\n",
        "inp_norm = BatchNormalization(axis=1)(input_image)\n",
        "flatten = Flatten()(input_image)\n",
        "dense2 = Dense(512, activation='relu')(flatten)\n",
        "norm_2 = BatchNormalization(axis=1)(dense2)\n",
        "drop_2 = Dropout(rate=0.2)(norm_2)\n",
        "dense3 = Dense(512, activation='relu')(drop_2)\n",
        "dense4 = Dense(10, activation='softmax')(dense3)\n",
        "model = Model(inputs=input_image, outputs=dense4)\n",
        "\n",
        "model.compile(loss='categorical_crossentropy',\n",
        "              optimizer='sgd',\n",
        "              metrics=['accuracy'])\n",
        "history = model.fit(X_train, Y_train, validation_split=0.1, batch_size=10, nb_epoch=30, verbose=0)\n",
        "score = model.evaluate(X_test, Y_test, verbose=0)\n",
        "print(score)\n",
        "plt.plot(history.history['acc'])\n",
        "plt.plot(history.history['val_acc'])\n",
        "plt.title('Model accuracy')\n",
        "plt.ylabel('Accuracy')\n",
        "plt.xlabel('Epoch')\n",
        "plt.legend(['Train', 'Test'], loc='upper left')\n",
        "plt.show()"
      ],
      "execution_count": 8,
      "outputs": [
        {
          "output_type": "stream",
          "text": [
            "/usr/local/lib/python3.6/dist-packages/ipykernel_launcher.py:15: UserWarning: The `nb_epoch` argument in `fit` has been renamed `epochs`.\n",
            "  from ipykernel import kernelapp as app\n"
          ],
          "name": "stderr"
        },
        {
          "output_type": "stream",
          "text": [
            "[0.05297573713088641, 0.9854]\n"
          ],
          "name": "stdout"
        },
        {
          "output_type": "display_data",
          "data": {
            "image/png": "[encoded data removed]",
            "text/plain": [
              "<Figure size 432x288 with 1 Axes>"
            ]
          },
          "metadata": {
            "tags": []
          }
        }
      ]
    },
    {
      "cell_type": "markdown",
      "metadata": {
        "id": "p71RMR24W9Wx",
        "colab_type": "text"
      },
      "source": [
        "#### 5. (4 баллов) Обучите полносвязную нейронную сеть (без свёрточных слоёв), достигающую лучшего качества на тесте без ограничений на количество слоёв?"
      ]
    },
    {
      "cell_type": "code",
      "metadata": {
        "id": "HeniB5MqW9W0",
        "colab_type": "code",
        "colab": {}
      },
      "source": [
        "# ваша точность на тесте: 0.9881"
      ],
      "execution_count": 0,
      "outputs": []
    },
    {
      "cell_type": "code",
      "metadata": {
        "id": "6JZg-2u5W9W5",
        "colab_type": "code",
        "colab": {}
      },
      "source": [
        "# ваш код, на котором достигается эта точность\n",
        "input_image = Input(shape=(1,28,28))\n",
        "inp_norm = BatchNormalization(axis=1)(input_image)\n",
        "flatten = Flatten()(input_image)\n",
        "dense2 = Dense(512, activation='relu')(flatten)\n",
        "norm_2 = BatchNormalization(axis=1)(dense2)\n",
        "drop_2 = Dropout(rate=0.2)(norm_2)\n",
        "dense3 = Dense(512, activation='relu')(drop_2)\n",
        "norm_3 = BatchNormalization(axis=1)(dense3)\n",
        "drop_3 = Dropout(rate=0.2)(norm_3)\n",
        "dense4 = Dense(512, activation='relu')(drop_3)\n",
        "dense5 = Dense(10, activation='softmax')(dense4)\n",
        "model = Model(inputs=input_image, outputs=dense5)\n",
        "\n",
        "model.compile(loss='categorical_crossentropy',\n",
        "              optimizer='sgd',\n",
        "              metrics=['accuracy'])\n",
        "model.fit(X_train, Y_train, validation_split=0.1, batch_size=10, nb_epoch=30, verbose=1)\n",
        "score = model.evaluate(X_test, Y_test, verbose=1)\n",
        "print(score)"
      ],
      "execution_count": 0,
      "outputs": []
    },
    {
      "cell_type": "markdown",
      "metadata": {
        "id": "lz8I3MN6W9XA",
        "colab_type": "text"
      },
      "source": [
        "#### 6. (3 баллов) Обучите  нейронную сеть с  одним свёрточным слоем,  достигающую лучшего качества на тесте без ограничений на общее количество слоёв? Слой субдискретизации можно использовать в неограниченном количестве."
      ]
    },
    {
      "cell_type": "code",
      "metadata": {
        "id": "TmhcFkV6W9XC",
        "colab_type": "code",
        "colab": {}
      },
      "source": [
        "# ваша точность на тесте: 0.9919"
      ],
      "execution_count": 0,
      "outputs": []
    },
    {
      "cell_type": "code",
      "metadata": {
        "id": "TylrOLzdW9XH",
        "colab_type": "code",
        "colab": {}
      },
      "source": [
        "# код, на котором достигается эта точность\n",
        "input_image = Input(shape=(1,28,28))\n",
        "inp_norm = BatchNormalization(axis=1)(input_image)\n",
        "conv = Convolution2D(32, (3,3), padding='same', data_format=\"channels_first\", activation='relu')(input_image)\n",
        "norm_1 = BatchNormalization(axis=1)(conv)\n",
        "pool_1 = MaxPooling2D((2,2), strides=2, data_format='channels_first')(norm_1)\n",
        "drop_1 = Dropout(rate=0.2)(pool_1)\n",
        "flatten = Flatten()(drop_1)\n",
        "dense2 = Dense(512, activation='relu')(flatten)\n",
        "norm_2 = BatchNormalization(axis=1)(dense2)\n",
        "drop_2 = Dropout(rate=0.2)(norm_2)\n",
        "dense3 = Dense(512, activation='relu')(drop_2)\n",
        "dense4 = Dense(10, activation='softmax')(dense3)\n",
        "model = Model(inputs=input_image, outputs=dense4)\n",
        "\n",
        "model.compile(loss='categorical_crossentropy',\n",
        "              optimizer='sgd',\n",
        "              metrics=['accuracy'])\n",
        "model.fit(X_train, Y_train, validation_split=0.1, batch_size=10, nb_epoch=30, verbose=1)\n",
        "score = model.evaluate(X_test, Y_test, verbose=1)\n",
        "print(score)"
      ],
      "execution_count": 0,
      "outputs": []
    },
    {
      "cell_type": "markdown",
      "metadata": {
        "id": "HdZ_tm98W9XN",
        "colab_type": "text"
      },
      "source": [
        "#### 7. (5 баллов) Обучите лучшую нейронную сеть следующими оптимизаторами: SGD, SGD + Momentum, SGD + NAG, AdaGrad, Adadelta, RMSprop, Adam. Какой оптимизатор позволяет достигнуть наибольшего качества на тесте? Какой оптимизатор сходится быстрее?"
      ]
    },
    {
      "cell_type": "markdown",
      "metadata": {
        "id": "uuuAHLUPE9wT",
        "colab_type": "text"
      },
      "source": [
        "**Наилучшего качества позволяет достигнуть оптимизатор sgd, и он же быстрее всех сходится (код в предыдущем пункте)**\n",
        "\n",
        "Что получилось (отсортируем в порядке скорости): \n",
        "\n",
        "*   SGD: 0.9919\n",
        "*   SGD + NAG: 0.9903\n",
        "*   SGD + momentum (=0.01): 0.9908\n",
        "*   AdaGrad: 0.9908\n",
        "*   RMSprop: 0.985\n",
        "*   Adam: 0.9874\n",
        "*   Adadelta: 0.9903"
      ]
    }
  ]
}